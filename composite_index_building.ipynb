{
 "cells": [
  {
   "cell_type": "markdown",
   "id": "c0bed8d5",
   "metadata": {},
   "source": [
    "<h1>Weighting and Aggregation</h1>\n",
    "\n",
    "There are 6 subindicies that are going to be used to build the composite index for Digital Readiness.\n",
    "\n",
    "- Access & Connectivity\n",
    "- Digital Governance Participation\n",
    "- Digital Trade Economy\n",
    "- Education Human Capital\n",
    "- Infrastructure Security\n",
    "- Innovation R&D\n",
    "\n",
    "| Sub Index | Weighting |\n",
    "|--|--|\n",
    "| Access & Connectivity | 0.25 |\n",
    "| Digital Governance Participation | 0.20 |\n",
    "| Digital Trade Economy | 0.15 |\n",
    "| Education Human Capital | 0.10 |\n",
    "| Infrastructure Security | 0.20 |\n",
    "| Innovation R&D | 0.10 |"
   ]
  },
  {
   "cell_type": "code",
   "execution_count": 33,
   "id": "079a7732",
   "metadata": {},
   "outputs": [],
   "source": [
    "import pandas as pd\n",
    "import plotly.express as px\n",
    "import seaborn as sns\n",
    "import matplotlib.pyplot as plt"
   ]
  },
  {
   "cell_type": "code",
   "execution_count": 34,
   "id": "e1603a45",
   "metadata": {},
   "outputs": [
    {
     "name": "stdout",
     "output_type": "stream",
     "text": [
      "                          Access & Connectivity  \\\n",
      "Country                                           \n",
      "China                                  0.227626   \n",
      "Israel                                 0.182663   \n",
      "Singapore                              0.187057   \n",
      "Iceland                                0.189911   \n",
      "Denmark                                0.206963   \n",
      "Estonia                                0.215960   \n",
      "United States of America               0.191424   \n",
      "United Kingdom                         0.198648   \n",
      "Germany                                0.209133   \n",
      "Switzerland                            0.217370   \n",
      "\n",
      "                          Digital Governance Participation  \\\n",
      "Country                                                      \n",
      "China                                             0.180465   \n",
      "Israel                                            0.160500   \n",
      "Singapore                                         0.194135   \n",
      "Iceland                                           0.193905   \n",
      "Denmark                                           0.198630   \n",
      "Estonia                                           0.194542   \n",
      "United States of America                          0.187184   \n",
      "United Kingdom                                    0.194225   \n",
      "Germany                                           0.192032   \n",
      "Switzerland                                       0.172708   \n",
      "\n",
      "                          Digital Trade Economy  Education Human Capital  \\\n",
      "Country                                                                    \n",
      "China                                  0.065223                 0.034892   \n",
      "Israel                                 0.100685                 0.079149   \n",
      "Singapore                              0.070737                 0.050447   \n",
      "Iceland                                0.070384                 0.048556   \n",
      "Denmark                                0.073824                 0.019594   \n",
      "Estonia                                0.054036                 0.031916   \n",
      "United States of America               0.080144                 0.024536   \n",
      "United Kingdom                         0.071900                 0.030220   \n",
      "Germany                                0.073577                 0.022748   \n",
      "Switzerland                            0.074296                 0.031911   \n",
      "\n",
      "                          Infrastructure Security  Innovation R&D  \\\n",
      "Country                                                             \n",
      "China                                    0.165627        0.075791   \n",
      "Israel                                   0.183577        0.034227   \n",
      "Singapore                                0.192643        0.035256   \n",
      "Iceland                                  0.199613        0.025179   \n",
      "Denmark                                  0.199446        0.027151   \n",
      "Estonia                                  0.189957        0.034251   \n",
      "United States of America                 0.188592        0.047150   \n",
      "United Kingdom                           0.193467        0.030538   \n",
      "Germany                                  0.185331        0.032226   \n",
      "Switzerland                              0.192838        0.025666   \n",
      "\n",
      "                          Composite Index  \n",
      "Country                                    \n",
      "China                            0.749624  \n",
      "Israel                           0.740801  \n",
      "Singapore                        0.730275  \n",
      "Iceland                          0.727547  \n",
      "Denmark                          0.725608  \n",
      "Estonia                          0.720661  \n",
      "United States of America         0.719031  \n",
      "United Kingdom                   0.718998  \n",
      "Germany                          0.715047  \n",
      "Switzerland                      0.714789  \n",
      "                          Access & Connectivity  \\\n",
      "Country                                           \n",
      "Eritrea                                0.082949   \n",
      "Yemen                                  0.044914   \n",
      "Burundi                                0.080732   \n",
      "Burkina Faso                           0.006479   \n",
      "Ethiopia                               0.038714   \n",
      "Mozambique                             0.053009   \n",
      "Niger                                  0.012988   \n",
      "Liberia                                0.032001   \n",
      "Afghanistan                            0.011058   \n",
      "Central African Republic               0.011791   \n",
      "\n",
      "                          Digital Governance Participation  \\\n",
      "Country                                                      \n",
      "Eritrea                                           0.008439   \n",
      "Yemen                                             0.030468   \n",
      "Burundi                                           0.039150   \n",
      "Burkina Faso                                      0.043802   \n",
      "Ethiopia                                          0.040752   \n",
      "Mozambique                                        0.041904   \n",
      "Niger                                             0.033681   \n",
      "Liberia                                           0.034038   \n",
      "Afghanistan                                       0.023720   \n",
      "Central African Republic                          0.008220   \n",
      "\n",
      "                          Digital Trade Economy  Education Human Capital  \\\n",
      "Country                                                                    \n",
      "Eritrea                                0.011254                 0.019143   \n",
      "Yemen                                  0.014108                 0.024278   \n",
      "Burundi                                0.004962                 0.003961   \n",
      "Burkina Faso                           0.007223                 0.015202   \n",
      "Ethiopia                               0.006412                 0.004604   \n",
      "Mozambique                             0.006636                 0.003051   \n",
      "Niger                                  0.011971                 0.027589   \n",
      "Liberia                                0.014986                 0.008896   \n",
      "Afghanistan                            0.014805                 0.006296   \n",
      "Central African Republic               0.011126                 0.009861   \n",
      "\n",
      "                          Infrastructure Security  Innovation R&D  \\\n",
      "Country                                                             \n",
      "Eritrea                                  0.027558        0.004968   \n",
      "Yemen                                    0.035846        0.003956   \n",
      "Burundi                                  0.007187        0.007245   \n",
      "Burkina Faso                             0.046663        0.022151   \n",
      "Ethiopia                                 0.036528        0.007104   \n",
      "Mozambique                               0.019609        0.002850   \n",
      "Niger                                    0.032747        0.006811   \n",
      "Liberia                                  0.029667        0.000001   \n",
      "Afghanistan                              0.032689        0.006863   \n",
      "Central African Republic                 0.000000        0.000479   \n",
      "\n",
      "                          Composite Index  \n",
      "Country                                    \n",
      "Eritrea                          0.154312  \n",
      "Yemen                            0.153569  \n",
      "Burundi                          0.143235  \n",
      "Burkina Faso                     0.141519  \n",
      "Ethiopia                         0.134116  \n",
      "Mozambique                       0.127059  \n",
      "Niger                            0.125786  \n",
      "Liberia                          0.119589  \n",
      "Afghanistan                      0.095430  \n",
      "Central African Republic         0.041476  \n"
     ]
    }
   ],
   "source": [
    "access = pd.read_csv(\"cleaned_sub_indices/access_connectivity_minmax.csv\", index_col=0)\n",
    "governance = pd.read_csv(\"cleaned_sub_indices/digital_governance_participation_minmax.csv\", index_col=0)\n",
    "trade = pd.read_csv(\"cleaned_sub_indices/digital_trade_economy_minmax.csv\", index_col=0)\n",
    "education = pd.read_csv(\"cleaned_sub_indices/education_human_capital_minmax.csv\", index_col=0)\n",
    "infrastructure = pd.read_csv(\"cleaned_sub_indices/infrastructure_security_minmax.csv\", index_col=0)\n",
    "innovation = pd.read_csv(\"cleaned_sub_indices/innovation_rd_minmax.csv\", index_col=0)\n",
    "\n",
    "access[\"score\"] = access.mean(axis=1)\n",
    "governance[\"score\"] = governance.mean(axis=1)\n",
    "trade[\"score\"] = trade.mean(axis=1)\n",
    "education[\"score\"] = education.mean(axis=1)\n",
    "infrastructure[\"score\"] = infrastructure.mean(axis=1)\n",
    "innovation[\"score\"] = innovation.mean(axis=1)\n",
    "\n",
    "composite = pd.DataFrame(index=access.index)\n",
    "composite[\"Access & Connectivity\"] = access[\"score\"] * 0.25\n",
    "composite[\"Digital Governance Participation\"] = governance[\"score\"] * 0.20\n",
    "composite[\"Digital Trade Economy\"] = trade[\"score\"] * 0.15\n",
    "composite[\"Education Human Capital\"] = education[\"score\"] * 0.10\n",
    "composite[\"Infrastructure Security\"] = infrastructure[\"score\"] * 0.20\n",
    "composite[\"Innovation R&D\"] = innovation[\"score\"] * 0.10\n",
    "\n",
    "composite[\"Composite Index\"] = composite.sum(axis=1)\n",
    "\n",
    "composite_sorted = composite.sort_values(\"Composite Index\", ascending=False)\n",
    "\n",
    "print(composite_sorted.head(10))\n",
    "print(composite_sorted.tail(10))\n",
    "composite_sorted.to_csv(\"composite_index.csv\")"
   ]
  },
  {
   "cell_type": "code",
   "execution_count": 35,
   "id": "bb6c698c",
   "metadata": {},
   "outputs": [
    {
     "data": {
      "application/vnd.plotly.v1+json": {
       "config": {
        "plotlyServerURL": "https://plot.ly"
       },
       "data": [
        {
         "coloraxis": "coloraxis",
         "geo": "geo",
         "hovertemplate": "Country=%{location}<br>Composite Index=%{z}<extra></extra>",
         "locationmode": "country names",
         "locations": [
          "China",
          "Israel",
          "Singapore",
          "Iceland",
          "Denmark",
          "Estonia",
          "United States of America",
          "United Kingdom",
          "Germany",
          "Switzerland",
          "Netherlands",
          "Ireland",
          "Finland",
          "Sweden",
          "Japan",
          "Norway",
          "United Arab Emirates",
          "Saudi Arabia",
          "Spain",
          "Malta",
          "Australia",
          "Cyprus",
          "France",
          "Greece",
          "Austria",
          "Uruguay",
          "Canada",
          "New Zealand",
          "Slovenia",
          "Lithuania",
          "Serbia",
          "Latvia",
          "Belgium",
          "Portugal",
          "Croatia",
          "Poland",
          "Ukraine",
          "Bulgaria",
          "Chile",
          "Italy",
          "Czech Republic",
          "Andorra",
          "Bahrain",
          "Romania",
          "Kazakhstan",
          "Russia",
          "Malaysia",
          "Belarus",
          "Hungary",
          "Argentina",
          "Luxembourg",
          "Armenia",
          "Costa Rica",
          "Slovakia",
          "Montenegro",
          "Thailand",
          "Brazil",
          "Georgia",
          "Mongolia",
          "Moldova",
          "Uzbekistan",
          "Viet Nam",
          "Philippines",
          "Saint Kitts and Nevis",
          "Oman",
          "Qatar",
          "Colombia",
          "North Macedonia",
          "Barbados",
          "Brunei Darussalam",
          "Mexico",
          "Albania",
          "Kuwait",
          "Bosnia and Herzegovina",
          "Mauritius",
          "Peru",
          "Ecuador",
          "South Africa",
          "Seychelles",
          "Azerbaijan",
          "Panama",
          "Maldives",
          "Kyrgyzstan",
          "Indonesia",
          "Dominican Republic",
          "Grenada",
          "Paraguay",
          "Trinidad and Tobago",
          "Bahamas",
          "Suriname",
          "Saint Vincent and the Grenadines",
          "Iran",
          "Antigua and Barbuda",
          "Tunisia",
          "Morocco",
          "Jordan",
          "Libya",
          "El Salvador",
          "Bolivia",
          "Lebanon",
          "Jamaica",
          "India",
          "Egypt",
          "Fiji",
          "Sri Lanka",
          "Botswana",
          "Dominica",
          "Guyana",
          "Cabo Verde",
          "Bhutan",
          "Algeria",
          "Venezuela",
          "Ghana",
          "Namibia",
          "Tonga",
          "Bangladesh",
          "Palau",
          "Eswatini",
          "Iraq",
          "Guatemala",
          "Cambodia",
          "Gabon",
          "Saint Lucia",
          "Belize",
          "Tajikistan",
          "Kiribati",
          "Cuba",
          "Kenya",
          "Vanuatu",
          "Nepal",
          "Nicaragua",
          "Sao Tome and Principe",
          "Samoa",
          "Myanmar",
          "Senegal",
          "Honduras",
          "Laos",
          "Rwanda",
          "Zambia",
          "Turkmenistan",
          "Cameroon",
          "Zimbabwe",
          "Syria",
          "Angola",
          "Pakistan",
          "Djibouti",
          "Timor-Leste",
          "Tanzania",
          "Nigeria",
          "Lesotho",
          "Solomon Islands",
          "Guinea",
          "Togo",
          "Guinea-Bissau",
          "Mauritania",
          "Republic of the Congo",
          "Uganda",
          "Benin",
          "Malawi",
          "Madagascar",
          "Democratic Republic of the Congo",
          "Gambia",
          "Mali",
          "Papua New Guinea",
          "Comoros",
          "Haiti",
          "Sudan",
          "Sierra Leone",
          "Eritrea",
          "Yemen",
          "Burundi",
          "Burkina Faso",
          "Ethiopia",
          "Mozambique",
          "Niger",
          "Liberia",
          "Afghanistan",
          "Central African Republic"
         ],
         "name": "",
         "type": "choropleth",
         "z": {
          "bdata": "0VKl7+v85z++q34zpbTnPw0XdAppXuc/hDD9vBBI5z+u4xtMLjjnP8h+k1moD+c/S8X/6kwC5z/iqnAbCQLnP7YwgQGr4eY/kYacqIzf5j+SMNy9LKXmP2ZKGnkVkuY/M9cNvxSO5j8uW00oQ4TmP+V1pvfrYuY/87Cr2kRY5j+iSf2SjlPmP/fa3fq0GeY/xMABKh3y5T+RkyaE6cTlP9HHcpYHwuU/d2i+Sn2y5T8wV3I6Rp3lP32Xnb92juU/Tqjha/g/5T+SNJB24AHlPxKQ/MTc7eQ/nNHiuhzZ5D9fQSNI99XkP6FKb+CAx+Q/3f9Doemn5D9WaseXp6HkP83o8IVGmeQ/VnCjvVaM5D9xxIo3iWTkP7QmvgrQPuQ/KYjZxkY95D9pdxMxZxTkP82dKIFtEuQ/hBnAVjIK5D88pwzqL/zjP9KYuCNp8eM/kRq7SQ664z8IG/0ivq3jPwCqLnLYp+M/hFwd682W4z8qQa17GJLjP++WTPNXbeM/H70n/jFk4z/qR56bokHjP7rc7iQ8EOM/vCPkPFUO4z9albfSV//iPze4ybsZ8eI/TEMPsRDr4j9qThF6wsziP1WOWmTcxuI/7NZ1MB6+4j/eJCNska/iP0ADEt8uguI/fCcdIk9Z4j8zKNjBJDbiP31V2q8h6+E/7fz6wFfZ4T/YFtRSNqXhP+r6kvt1h+E/0aBqE4B34T90tejdOHDhP32jloc1cOE/Ssu/aRBP4T8A0ytMkkbhPz7bsYA4ROE/Bh0k6jUi4T9ii2BsVNfgP+NCgz/Ot+A/Nk4g+Kuq4D/C6zN93JzgP9QGU1IAlOA/wHhH8BCI4D/V4zeMpnvgP9Fo7td0YeA/uGYzDkIi4D/LtT0u+RrgP2FXQpcrGeA/sCi+C4x13z/FhOrpbGTfPy/iYk//LN8/KL8kCnce3z8MYK6Pjd7ePx6rHM/cYN4/Xsf+AcD13T8x29HGNfPdP4hcVAiE6t0/n+RZtPOO3T8UGAwLsF3dP/RLzMs5/dw/uybZ8a1C3D/eVRQkzezbP2FgNXyr59s/6s2yCdNi2z/EqUwwBlPbP6+xh/dJT9s/jVqIRAs62z8GpuAd1yHbP6UBEtus6to/7Zv/ewDN2j9va7n8YGTaP93XOI42Ldo/EAq7UY/O2T9BG9OtgCzZPxD+LDs0LNk/0GrVwgkd2T9LhE7vdsTYP7gZe9rggdg/cz4apcNc2D8OYQuX+0TYP78i8QdjOdg/3x4CBdwt2D/XZ0frDRPYP2Vl8IhqpNc/npZXHmig1z+CDzhyPHnXP15g16HaOdc/LugBqcwO1z+uKoMb8APXP7mW1/NK19Y/6oNEsUWx1j/nF69rvqbWPz3moqxoP9Y/qWBSijLH1T9fHAcJX8DVPzdjhxYHndU/r1Hq+p5p1T+uCC0E5RTVP800XroVitQ/+0To3MB/1D+k9GbPd1LUP2s7kwdQSNQ/QwfrG+0v0z974zM4rdjSPxrM9WmZR9I/PnXKAqk80j9JVHN3rgXSP0pjxftz9tE/Q6Zz9bM/0T8YxKuw077QPz1ewA8hedA/Y29tL/Fj0D8gf7+lX2DQPxwPUHjsRdA/TEuezj4B0D887VZsHYHPPySnGN6ua80/8UD1t6gUzT9s+9ipwd7MP+a+WkJOvMw/T91+7ESyzD9bUrGVO63MP5d9oMs0hMw/Of/qFLWUyT8epzUk32jIPwsM0MlEScg/Osmkam4eyD9q0/0dUQLIP4yMPR34gMc/qwqIsb5Rxj/w+SDm+6HFP0uIcUc5QcQ/DWNFGYDAwz8x6qfbJ6jDPyVjal6IVcI//Flj8k0dwj9eC1jItirBP/+cBjp2Q8A/+Q6Hor0ZwD+KnTBKaZ2+P2IGgvEUbrg/qRwpRFI8pT8=",
          "dtype": "f8"
         }
        }
       ],
       "layout": {
        "coloraxis": {
         "colorbar": {
          "title": {
           "text": "Composite Index"
          }
         },
         "colorscale": [
          [
           0,
           "#440154"
          ],
          [
           0.1111111111111111,
           "#482878"
          ],
          [
           0.2222222222222222,
           "#3e4989"
          ],
          [
           0.3333333333333333,
           "#31688e"
          ],
          [
           0.4444444444444444,
           "#26828e"
          ],
          [
           0.5555555555555556,
           "#1f9e89"
          ],
          [
           0.6666666666666666,
           "#35b779"
          ],
          [
           0.7777777777777778,
           "#6ece58"
          ],
          [
           0.8888888888888888,
           "#b5de2b"
          ],
          [
           1,
           "#fde725"
          ]
         ]
        },
        "geo": {
         "center": {},
         "domain": {
          "x": [
           0,
           1
          ],
          "y": [
           0,
           1
          ]
         }
        },
        "legend": {
         "tracegroupgap": 0
        },
        "template": {
         "data": {
          "bar": [
           {
            "error_x": {
             "color": "#2a3f5f"
            },
            "error_y": {
             "color": "#2a3f5f"
            },
            "marker": {
             "line": {
              "color": "#E5ECF6",
              "width": 0.5
             },
             "pattern": {
              "fillmode": "overlay",
              "size": 10,
              "solidity": 0.2
             }
            },
            "type": "bar"
           }
          ],
          "barpolar": [
           {
            "marker": {
             "line": {
              "color": "#E5ECF6",
              "width": 0.5
             },
             "pattern": {
              "fillmode": "overlay",
              "size": 10,
              "solidity": 0.2
             }
            },
            "type": "barpolar"
           }
          ],
          "carpet": [
           {
            "aaxis": {
             "endlinecolor": "#2a3f5f",
             "gridcolor": "white",
             "linecolor": "white",
             "minorgridcolor": "white",
             "startlinecolor": "#2a3f5f"
            },
            "baxis": {
             "endlinecolor": "#2a3f5f",
             "gridcolor": "white",
             "linecolor": "white",
             "minorgridcolor": "white",
             "startlinecolor": "#2a3f5f"
            },
            "type": "carpet"
           }
          ],
          "choropleth": [
           {
            "colorbar": {
             "outlinewidth": 0,
             "ticks": ""
            },
            "type": "choropleth"
           }
          ],
          "contour": [
           {
            "colorbar": {
             "outlinewidth": 0,
             "ticks": ""
            },
            "colorscale": [
             [
              0,
              "#0d0887"
             ],
             [
              0.1111111111111111,
              "#46039f"
             ],
             [
              0.2222222222222222,
              "#7201a8"
             ],
             [
              0.3333333333333333,
              "#9c179e"
             ],
             [
              0.4444444444444444,
              "#bd3786"
             ],
             [
              0.5555555555555556,
              "#d8576b"
             ],
             [
              0.6666666666666666,
              "#ed7953"
             ],
             [
              0.7777777777777778,
              "#fb9f3a"
             ],
             [
              0.8888888888888888,
              "#fdca26"
             ],
             [
              1,
              "#f0f921"
             ]
            ],
            "type": "contour"
           }
          ],
          "contourcarpet": [
           {
            "colorbar": {
             "outlinewidth": 0,
             "ticks": ""
            },
            "type": "contourcarpet"
           }
          ],
          "heatmap": [
           {
            "colorbar": {
             "outlinewidth": 0,
             "ticks": ""
            },
            "colorscale": [
             [
              0,
              "#0d0887"
             ],
             [
              0.1111111111111111,
              "#46039f"
             ],
             [
              0.2222222222222222,
              "#7201a8"
             ],
             [
              0.3333333333333333,
              "#9c179e"
             ],
             [
              0.4444444444444444,
              "#bd3786"
             ],
             [
              0.5555555555555556,
              "#d8576b"
             ],
             [
              0.6666666666666666,
              "#ed7953"
             ],
             [
              0.7777777777777778,
              "#fb9f3a"
             ],
             [
              0.8888888888888888,
              "#fdca26"
             ],
             [
              1,
              "#f0f921"
             ]
            ],
            "type": "heatmap"
           }
          ],
          "histogram": [
           {
            "marker": {
             "pattern": {
              "fillmode": "overlay",
              "size": 10,
              "solidity": 0.2
             }
            },
            "type": "histogram"
           }
          ],
          "histogram2d": [
           {
            "colorbar": {
             "outlinewidth": 0,
             "ticks": ""
            },
            "colorscale": [
             [
              0,
              "#0d0887"
             ],
             [
              0.1111111111111111,
              "#46039f"
             ],
             [
              0.2222222222222222,
              "#7201a8"
             ],
             [
              0.3333333333333333,
              "#9c179e"
             ],
             [
              0.4444444444444444,
              "#bd3786"
             ],
             [
              0.5555555555555556,
              "#d8576b"
             ],
             [
              0.6666666666666666,
              "#ed7953"
             ],
             [
              0.7777777777777778,
              "#fb9f3a"
             ],
             [
              0.8888888888888888,
              "#fdca26"
             ],
             [
              1,
              "#f0f921"
             ]
            ],
            "type": "histogram2d"
           }
          ],
          "histogram2dcontour": [
           {
            "colorbar": {
             "outlinewidth": 0,
             "ticks": ""
            },
            "colorscale": [
             [
              0,
              "#0d0887"
             ],
             [
              0.1111111111111111,
              "#46039f"
             ],
             [
              0.2222222222222222,
              "#7201a8"
             ],
             [
              0.3333333333333333,
              "#9c179e"
             ],
             [
              0.4444444444444444,
              "#bd3786"
             ],
             [
              0.5555555555555556,
              "#d8576b"
             ],
             [
              0.6666666666666666,
              "#ed7953"
             ],
             [
              0.7777777777777778,
              "#fb9f3a"
             ],
             [
              0.8888888888888888,
              "#fdca26"
             ],
             [
              1,
              "#f0f921"
             ]
            ],
            "type": "histogram2dcontour"
           }
          ],
          "mesh3d": [
           {
            "colorbar": {
             "outlinewidth": 0,
             "ticks": ""
            },
            "type": "mesh3d"
           }
          ],
          "parcoords": [
           {
            "line": {
             "colorbar": {
              "outlinewidth": 0,
              "ticks": ""
             }
            },
            "type": "parcoords"
           }
          ],
          "pie": [
           {
            "automargin": true,
            "type": "pie"
           }
          ],
          "scatter": [
           {
            "fillpattern": {
             "fillmode": "overlay",
             "size": 10,
             "solidity": 0.2
            },
            "type": "scatter"
           }
          ],
          "scatter3d": [
           {
            "line": {
             "colorbar": {
              "outlinewidth": 0,
              "ticks": ""
             }
            },
            "marker": {
             "colorbar": {
              "outlinewidth": 0,
              "ticks": ""
             }
            },
            "type": "scatter3d"
           }
          ],
          "scattercarpet": [
           {
            "marker": {
             "colorbar": {
              "outlinewidth": 0,
              "ticks": ""
             }
            },
            "type": "scattercarpet"
           }
          ],
          "scattergeo": [
           {
            "marker": {
             "colorbar": {
              "outlinewidth": 0,
              "ticks": ""
             }
            },
            "type": "scattergeo"
           }
          ],
          "scattergl": [
           {
            "marker": {
             "colorbar": {
              "outlinewidth": 0,
              "ticks": ""
             }
            },
            "type": "scattergl"
           }
          ],
          "scattermap": [
           {
            "marker": {
             "colorbar": {
              "outlinewidth": 0,
              "ticks": ""
             }
            },
            "type": "scattermap"
           }
          ],
          "scattermapbox": [
           {
            "marker": {
             "colorbar": {
              "outlinewidth": 0,
              "ticks": ""
             }
            },
            "type": "scattermapbox"
           }
          ],
          "scatterpolar": [
           {
            "marker": {
             "colorbar": {
              "outlinewidth": 0,
              "ticks": ""
             }
            },
            "type": "scatterpolar"
           }
          ],
          "scatterpolargl": [
           {
            "marker": {
             "colorbar": {
              "outlinewidth": 0,
              "ticks": ""
             }
            },
            "type": "scatterpolargl"
           }
          ],
          "scatterternary": [
           {
            "marker": {
             "colorbar": {
              "outlinewidth": 0,
              "ticks": ""
             }
            },
            "type": "scatterternary"
           }
          ],
          "surface": [
           {
            "colorbar": {
             "outlinewidth": 0,
             "ticks": ""
            },
            "colorscale": [
             [
              0,
              "#0d0887"
             ],
             [
              0.1111111111111111,
              "#46039f"
             ],
             [
              0.2222222222222222,
              "#7201a8"
             ],
             [
              0.3333333333333333,
              "#9c179e"
             ],
             [
              0.4444444444444444,
              "#bd3786"
             ],
             [
              0.5555555555555556,
              "#d8576b"
             ],
             [
              0.6666666666666666,
              "#ed7953"
             ],
             [
              0.7777777777777778,
              "#fb9f3a"
             ],
             [
              0.8888888888888888,
              "#fdca26"
             ],
             [
              1,
              "#f0f921"
             ]
            ],
            "type": "surface"
           }
          ],
          "table": [
           {
            "cells": {
             "fill": {
              "color": "#EBF0F8"
             },
             "line": {
              "color": "white"
             }
            },
            "header": {
             "fill": {
              "color": "#C8D4E3"
             },
             "line": {
              "color": "white"
             }
            },
            "type": "table"
           }
          ]
         },
         "layout": {
          "annotationdefaults": {
           "arrowcolor": "#2a3f5f",
           "arrowhead": 0,
           "arrowwidth": 1
          },
          "autotypenumbers": "strict",
          "coloraxis": {
           "colorbar": {
            "outlinewidth": 0,
            "ticks": ""
           }
          },
          "colorscale": {
           "diverging": [
            [
             0,
             "#8e0152"
            ],
            [
             0.1,
             "#c51b7d"
            ],
            [
             0.2,
             "#de77ae"
            ],
            [
             0.3,
             "#f1b6da"
            ],
            [
             0.4,
             "#fde0ef"
            ],
            [
             0.5,
             "#f7f7f7"
            ],
            [
             0.6,
             "#e6f5d0"
            ],
            [
             0.7,
             "#b8e186"
            ],
            [
             0.8,
             "#7fbc41"
            ],
            [
             0.9,
             "#4d9221"
            ],
            [
             1,
             "#276419"
            ]
           ],
           "sequential": [
            [
             0,
             "#0d0887"
            ],
            [
             0.1111111111111111,
             "#46039f"
            ],
            [
             0.2222222222222222,
             "#7201a8"
            ],
            [
             0.3333333333333333,
             "#9c179e"
            ],
            [
             0.4444444444444444,
             "#bd3786"
            ],
            [
             0.5555555555555556,
             "#d8576b"
            ],
            [
             0.6666666666666666,
             "#ed7953"
            ],
            [
             0.7777777777777778,
             "#fb9f3a"
            ],
            [
             0.8888888888888888,
             "#fdca26"
            ],
            [
             1,
             "#f0f921"
            ]
           ],
           "sequentialminus": [
            [
             0,
             "#0d0887"
            ],
            [
             0.1111111111111111,
             "#46039f"
            ],
            [
             0.2222222222222222,
             "#7201a8"
            ],
            [
             0.3333333333333333,
             "#9c179e"
            ],
            [
             0.4444444444444444,
             "#bd3786"
            ],
            [
             0.5555555555555556,
             "#d8576b"
            ],
            [
             0.6666666666666666,
             "#ed7953"
            ],
            [
             0.7777777777777778,
             "#fb9f3a"
            ],
            [
             0.8888888888888888,
             "#fdca26"
            ],
            [
             1,
             "#f0f921"
            ]
           ]
          },
          "colorway": [
           "#636efa",
           "#EF553B",
           "#00cc96",
           "#ab63fa",
           "#FFA15A",
           "#19d3f3",
           "#FF6692",
           "#B6E880",
           "#FF97FF",
           "#FECB52"
          ],
          "font": {
           "color": "#2a3f5f"
          },
          "geo": {
           "bgcolor": "white",
           "lakecolor": "white",
           "landcolor": "#E5ECF6",
           "showlakes": true,
           "showland": true,
           "subunitcolor": "white"
          },
          "hoverlabel": {
           "align": "left"
          },
          "hovermode": "closest",
          "mapbox": {
           "style": "light"
          },
          "paper_bgcolor": "white",
          "plot_bgcolor": "#E5ECF6",
          "polar": {
           "angularaxis": {
            "gridcolor": "white",
            "linecolor": "white",
            "ticks": ""
           },
           "bgcolor": "#E5ECF6",
           "radialaxis": {
            "gridcolor": "white",
            "linecolor": "white",
            "ticks": ""
           }
          },
          "scene": {
           "xaxis": {
            "backgroundcolor": "#E5ECF6",
            "gridcolor": "white",
            "gridwidth": 2,
            "linecolor": "white",
            "showbackground": true,
            "ticks": "",
            "zerolinecolor": "white"
           },
           "yaxis": {
            "backgroundcolor": "#E5ECF6",
            "gridcolor": "white",
            "gridwidth": 2,
            "linecolor": "white",
            "showbackground": true,
            "ticks": "",
            "zerolinecolor": "white"
           },
           "zaxis": {
            "backgroundcolor": "#E5ECF6",
            "gridcolor": "white",
            "gridwidth": 2,
            "linecolor": "white",
            "showbackground": true,
            "ticks": "",
            "zerolinecolor": "white"
           }
          },
          "shapedefaults": {
           "line": {
            "color": "#2a3f5f"
           }
          },
          "ternary": {
           "aaxis": {
            "gridcolor": "white",
            "linecolor": "white",
            "ticks": ""
           },
           "baxis": {
            "gridcolor": "white",
            "linecolor": "white",
            "ticks": ""
           },
           "bgcolor": "#E5ECF6",
           "caxis": {
            "gridcolor": "white",
            "linecolor": "white",
            "ticks": ""
           }
          },
          "title": {
           "x": 0.05
          },
          "xaxis": {
           "automargin": true,
           "gridcolor": "white",
           "linecolor": "white",
           "ticks": "",
           "title": {
            "standoff": 15
           },
           "zerolinecolor": "white",
           "zerolinewidth": 2
          },
          "yaxis": {
           "automargin": true,
           "gridcolor": "white",
           "linecolor": "white",
           "ticks": "",
           "title": {
            "standoff": 15
           },
           "zerolinecolor": "white",
           "zerolinewidth": 2
          }
         }
        },
        "title": {
         "text": "Composite Index by Country"
        }
       }
      }
     },
     "metadata": {},
     "output_type": "display_data"
    }
   ],
   "source": [
    "composite_reset = composite_sorted.reset_index()\n",
    "composite_reset.columns = ['Country', 'Access & Connectivity', 'Digital Governance Participation',\n",
    "                           'Digital Trade Economy', 'Education Human Capital',\n",
    "                           'Infrastructure Security', 'Innovation R&D', 'Composite Index']\n",
    "\n",
    "fig = px.choropleth(\n",
    "    composite_reset,\n",
    "    locations=\"Country\",\n",
    "    locationmode=\"country names\",\n",
    "    color=\"Composite Index\",\n",
    "    color_continuous_scale=\"Viridis\",\n",
    "    title=\"Composite Index by Country\",\n",
    ")\n",
    "\n",
    "fig.show()"
   ]
  },
  {
   "cell_type": "code",
   "execution_count": 36,
   "id": "67792a0e",
   "metadata": {},
   "outputs": [
    {
     "name": "stdout",
     "output_type": "stream",
     "text": [
      "Top 10 countries:\n",
      "                    Country  Composite Index\n",
      "0                     China         0.749624\n",
      "1                    Israel         0.740801\n",
      "2                 Singapore         0.730275\n",
      "3                   Iceland         0.727547\n",
      "4                   Denmark         0.725608\n",
      "5                   Estonia         0.720661\n",
      "6  United States of America         0.719031\n",
      "7            United Kingdom         0.718998\n",
      "8                   Germany         0.715047\n",
      "9               Switzerland         0.714789\n",
      "\n",
      "Bottom 10 countries:\n",
      "                      Country  Composite Index\n",
      "177  Central African Republic         0.041476\n",
      "176               Afghanistan         0.095430\n",
      "175                   Liberia         0.119589\n",
      "174                     Niger         0.125786\n",
      "173                Mozambique         0.127059\n",
      "172                  Ethiopia         0.134116\n",
      "171              Burkina Faso         0.141519\n",
      "170                   Burundi         0.143235\n",
      "169                     Yemen         0.153569\n",
      "168                   Eritrea         0.154312\n"
     ]
    }
   ],
   "source": [
    "df = pd.read_csv(\"composite_index.csv\")\n",
    "top_10 = df.sort_values(by=\"Composite Index\", ascending=False).head(10)\n",
    "\n",
    "bottom_10 = df.sort_values(by=\"Composite Index\", ascending=True).head(10)\n",
    "\n",
    "print(\"Top 10 countries:\")\n",
    "print(top_10[[\"Country\", \"Composite Index\"]])\n",
    "\n",
    "print(\"\\nBottom 10 countries:\")\n",
    "print(bottom_10[[\"Country\", \"Composite Index\"]])"
   ]
  },
  {
   "cell_type": "code",
   "execution_count": 37,
   "id": "93634b1d",
   "metadata": {},
   "outputs": [
    {
     "data": {
      "image/png": "[encoded data removed]",
      "text/plain": [
       "<Figure size 1000x800 with 2 Axes>"
      ]
     },
     "metadata": {},
     "output_type": "display_data"
    }
   ],
   "source": [
    "numeric_df = df.drop(columns=[\"Country\"])\n",
    "plt.figure(figsize=(10, 8))\n",
    "sns.heatmap(numeric_df.corr(), annot=True, cmap=\"coolwarm\")\n",
    "plt.title(\"Correlation Between Subindices and Composite Index\")\n",
    "plt.show()\n"
   ]
  },
  {
   "cell_type": "code",
   "execution_count": 38,
   "id": "15659edd",
   "metadata": {},
   "outputs": [
    {
     "data": {
      "image/png": "[encoded data removed]",
      "text/plain": [
       "<Figure size 1400x600 with 1 Axes>"
      ]
     },
     "metadata": {},
     "output_type": "display_data"
    }
   ],
   "source": [
    "df = pd.read_csv(\"composite_index.csv\")\n",
    "\n",
    "numeric_data = df.drop(columns=[\"Country\"])\n",
    "\n",
    "plt.figure(figsize=(14, 6))\n",
    "sns.boxplot(data=numeric_data, orient=\"h\")\n",
    "plt.title(\"Boxplots for Subindices and Composite Index\")\n",
    "plt.xlabel(\"Normalised Scores\")\n",
    "plt.tight_layout()\n",
    "plt.show()"
   ]
  }
 ],
 "metadata": {
  "kernelspec": {
   "display_name": "Python 3",
   "language": "python",
   "name": "python3"
  },
  "language_info": {
   "codemirror_mode": {
    "name": "ipython",
    "version": 3
   },
   "file_extension": ".py",
   "mimetype": "text/x-python",
   "name": "python",
   "nbconvert_exporter": "python",
   "pygments_lexer": "ipython3",
   "version": "3.12.6"
  }
 },
 "nbformat": 4,
 "nbformat_minor": 5
}
