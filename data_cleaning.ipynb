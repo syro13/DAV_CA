{
 "cells": [
  {
   "cell_type": "code",
   "execution_count": null,
   "id": "694515d0",
   "metadata": {},
   "outputs": [],
   "source": [
    "import pandas as pd\n",
    "import glob\n",
    "import matplotlib.pyplot as plt\n",
    "import numpy as np\n",
    "\n",
    "file_paths = glob.glob('unclean_data/*.csv')"
   ]
  },
  {
   "cell_type": "code",
   "execution_count": null,
   "id": "0fa93e86",
   "metadata": {},
   "outputs": [],
   "source": [
    "indicator_names = [\n",
    "    \"Adult Literacy Rate\",\n",
    "    \"ICT Service Exports\",\n",
    "    \"R&D Expenditure\",\n",
    "    \"Journal Articles\",\n",
    "    \"Patent Applications\",\n",
    "    \"Mobile Subscriptions\",\n",
    "    \"Fixed Broadband Subscriptions\",\n",
    "    \"Secure Internet Servers (per million)\",\n",
    "    \"Secure Internet Servers (alt)\",\n",
    "    \"Internet Users\",\n",
    "    \"ICT Goods Imports\",\n",
    "    \"High-Tech Exports\",\n",
    "    \"Tertiary Education Enrollment\"\n",
    "]\n",
    "\n",
    "final_data = {}\n",
    "\n",
    "for file_path, indicator in zip(file_paths, indicator_names):\n",
    "    df = pd.read_csv(file_path, skiprows=4)\n",
    "    \n",
    "    df = df.drop(columns=['Indicator Name', 'Indicator Code'], errors='ignore')\n",
    "    \n",
    "    for _, row in df.iterrows():\n",
    "        country = row['Country Name'].strip()\n",
    "        if country not in final_data:\n",
    "            final_data[country] = {}\n",
    "\n",
    "        year_data = row.drop(labels=['Country Name', 'Country Code'], errors='ignore')\n",
    "        year_data = year_data.dropna()\n",
    "\n",
    "        if not year_data.empty:\n",
    "            latest_value = year_data.iloc[-1]\n",
    "            final_data[country][indicator] = latest_value\n",
    "        else:\n",
    "            final_data[country][indicator] = \"NONE\"\n",
    "\n",
    "reshaped_df = pd.DataFrame.from_dict(final_data, orient='index')\n",
    "reshaped_df.index.name = \"Country\"\n",
    "\n",
    "reshaped_df.to_csv(\"digital_readiness_reshaped.csv\")\n",
    "\n",
    "print(reshaped_df.head())"
   ]
  }
 ],
 "metadata": {
  "language_info": {
   "name": "python"
  }
 },
 "nbformat": 4,
 "nbformat_minor": 5
}
